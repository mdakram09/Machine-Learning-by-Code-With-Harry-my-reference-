{
 "cells": [
  {
   "cell_type": "code",
   "execution_count": 13,
   "metadata": {},
   "outputs": [
    {
     "name": "stdout",
     "output_type": "stream",
     "text": [
      "Mean squared error is:  1826.5364191345418\n",
      "Weights:  [  -1.16924976 -237.18461486  518.30606657  309.04865826 -763.14121622\n",
      "  458.90999325   80.62441437  174.32183366  721.49712065   79.19307944]\n",
      "Intercept:  153.05827988224112\n"
     ]
    }
   ],
   "source": [
    "import matplotlib.pyplot as plt\n",
    "import numpy as np\n",
    "from sklearn import datasets, linear_model\n",
    "from sklearn.metrics import  mean_squared_error\n",
    "\n",
    "diabetes = datasets.load_diabetes()\n",
    "\n",
    "diabetes_X = diabetes.data[:, np.newaxis,]\n",
    "\n",
    "diabetes_X_train = diabetes_X[:-30]\n",
    "diabetes_X_test = diabetes_X[-30:]\n",
    "\n",
    "diabetes_y_train = diabetes.target[:-30]\n",
    "diabetes_y_test = diabetes.target[-30:]\n",
    "\n",
    "model = linear_model.LinearRegression()\n",
    "\n",
    "model.fit(diabetes_X_train, diabetes_y_train)\n",
    "\n",
    "diabetes_y_predicted = model.predict(diabetes_X_test)\n",
    "\n",
    "print(\"Mean squared error is: \", mean_squared_error(diabetes_y_test, diabetes_y_predicted))\n",
    "\n",
    "print(\"Weights: \", model.coef_)\n",
    "print(\"Intercept: \", model.intercept_)"
   ]
  },
  {
   "cell_type": "code",
   "execution_count": null,
   "metadata": {},
   "outputs": [],
   "source": []
  }
 ],
 "metadata": {
  "kernelspec": {
   "display_name": "Python 3",
   "language": "python",
   "name": "python3"
  },
  "language_info": {
   "codemirror_mode": {
    "name": "ipython",
    "version": 3
   },
   "file_extension": ".py",
   "mimetype": "text/x-python",
   "name": "python",
   "nbconvert_exporter": "python",
   "pygments_lexer": "ipython3",
   "version": "3.8.5"
  }
 },
 "nbformat": 4,
 "nbformat_minor": 4
}
